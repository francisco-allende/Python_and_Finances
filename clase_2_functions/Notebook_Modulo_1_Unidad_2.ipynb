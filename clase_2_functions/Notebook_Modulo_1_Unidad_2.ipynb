{
  "cells": [
    {
      "cell_type": "markdown",
      "metadata": {
        "id": "A0LY18eydnmr"
      },
      "source": [
        "## Listas, tuplas y diccionarios\n",
        "\n",
        "3 tipos de datos más complejos que los que vimos antes, pero que vamos a utilizar mucho, son:\n",
        "- Listas: Una lista es una **estructura de datos** que contiene una colección o secuencia de datos. Los datos o elementos de una lista deben ir **separados con una coma** y todo el conjunto entre corchetes. Se dice que una lista es una estructura **mutable** porque además de permitir el acceso a los elementos, pueden suprimirse o agregarse nuevos.\n",
        "- Tuplas: Una tupla permite tener agrupados un conjunto **inmutable** de elementos, es decir, en una tupla no es posible agregar ni eliminar elementos. Las tuplas se declaran separando los elementos por comas y entre paréntesis.\n",
        "- Diccionarios: Los diccionarios son objetos que contienen una lista de parejas de elementos. De cada pareja un elemento es la clave, que no puede repetirse, y, el otro, un valor asociado.\n",
        "\n",
        "Los elementos de las tuplas, listas y diccionarios pueden ser de cualquier tipo de dato\n"
      ]
    },
    {
      "cell_type": "markdown",
      "source": [
        "### Conceptos generales de tuplas y listas"
      ],
      "metadata": {
        "id": "Ia_p8gZaEVIX"
      }
    },
    {
      "cell_type": "code",
      "source": [
        "tupla = (1, 2.2, 'string', 3,  4, 5.5)"
      ],
      "metadata": {
        "id": "6EfC7mqNC281"
      },
      "execution_count": 30,
      "outputs": []
    },
    {
      "cell_type": "code",
      "source": [
        "lista = [1, 'aaa', 3.3, 4, 5.5, 6, '7']"
      ],
      "metadata": {
        "id": "9awRAATIC2_x"
      },
      "execution_count": 31,
      "outputs": []
    },
    {
      "cell_type": "code",
      "source": [
        "a=5"
      ],
      "metadata": {
        "id": "rruhM0cWC3CB"
      },
      "execution_count": 32,
      "outputs": []
    },
    {
      "cell_type": "markdown",
      "metadata": {
        "id": "udGCN-8Cgz1p"
      },
      "source": [
        "Para acceder a los elementos de una tupla o una lista, debemos utilizas los indices, es decir, la posición en la que se encuentra el elemento.\n",
        "Los indices empiezan desde 0.\n",
        "Para acceder a el último elemento, se usa el -1. A el penúltimo -2 y así sucesivamente."
      ]
    },
    {
      "cell_type": "code",
      "source": [
        "lista[6]"
      ],
      "metadata": {
        "id": "TPP8PhtFDuJS"
      },
      "execution_count": null,
      "outputs": []
    },
    {
      "cell_type": "code",
      "source": [
        "x = 'prueba'"
      ],
      "metadata": {
        "id": "0nIjPsCxDzNu"
      },
      "execution_count": 34,
      "outputs": []
    },
    {
      "cell_type": "code",
      "source": [
        "x[0]"
      ],
      "metadata": {
        "id": "V_fhNEH0DzQg"
      },
      "execution_count": null,
      "outputs": []
    },
    {
      "cell_type": "code",
      "source": [
        "lista[-1]"
      ],
      "metadata": {
        "id": "653gcY5qDzTP"
      },
      "execution_count": null,
      "outputs": []
    },
    {
      "cell_type": "code",
      "source": [
        "# Accedemos a el primer elemento de la lista\n",
        "print(f\"Primer elemento de la lista: {lista[0]}\")\n",
        "\n",
        "# Accedemos a el último elemento de la lista\n",
        "print(f\"Último elemento de la lista: {lista[-1]}\")\n",
        "\n",
        "# Accedemos a el penúltimo elemento de la lista\n",
        "print(f\"Penúltimo elemento de la lista: {lista[-2]}\")"
      ],
      "metadata": {
        "id": "kKs0X-kPDuMK"
      },
      "execution_count": null,
      "outputs": []
    },
    {
      "cell_type": "code",
      "source": [
        "# Accedemos a el primer elemento de la tupla\n",
        "print(f\"Primer elemento de la tupla: {tupla[0]}\")\n",
        "\n",
        "# Accedemos a el último elemento de la tupla\n",
        "print(f\"Último elemento de la tupla: {tupla[-1]}\")\n",
        "\n",
        "# Accedemos a el penúltimo elemento de la tupla\n",
        "print(f\"Penúltimo elemento de la tupla: {tupla[-2]}\")"
      ],
      "metadata": {
        "id": "i85xmi6ODuOR"
      },
      "execution_count": null,
      "outputs": []
    },
    {
      "cell_type": "markdown",
      "metadata": {
        "id": "jf83dX0klZS8"
      },
      "source": [
        "Para ver el largo de una lista, podemos utilizar la funcion len()"
      ]
    },
    {
      "cell_type": "code",
      "source": [
        "print(f\"La lista tiene {len(lista)} elementos\")"
      ],
      "metadata": {
        "id": "rQcS0DWeD6oG"
      },
      "execution_count": null,
      "outputs": []
    },
    {
      "cell_type": "code",
      "source": [
        "len(lista)"
      ],
      "metadata": {
        "id": "zvZ0k1qJD6ql"
      },
      "execution_count": null,
      "outputs": []
    },
    {
      "cell_type": "markdown",
      "metadata": {
        "id": "2q7f_Q3JljDy"
      },
      "source": [
        "Lo mismo con tuplas"
      ]
    },
    {
      "cell_type": "code",
      "source": [
        "print(f\"La tupla tiene {len(tupla)} elementos\")"
      ],
      "metadata": {
        "id": "Ik7ogyVxD6s-"
      },
      "execution_count": null,
      "outputs": []
    },
    {
      "cell_type": "markdown",
      "metadata": {
        "id": "Cb2rAjMvlGel"
      },
      "source": [
        "Como dijimos, las listas son objetos mutables. Es decir, que les podemos agregar y quitar elementos:"
      ]
    },
    {
      "cell_type": "code",
      "source": [
        "print(lista)"
      ],
      "metadata": {
        "id": "HAHw_fXzECMu"
      },
      "execution_count": null,
      "outputs": []
    },
    {
      "cell_type": "code",
      "source": [
        "# Agregamos un elemento a la lista\n",
        "lista.append('otro elemento')\n",
        "print(lista)"
      ],
      "metadata": {
        "id": "eQenamfbECPN"
      },
      "execution_count": null,
      "outputs": []
    },
    {
      "cell_type": "code",
      "source": [
        "# Eliminamos un elemento de la lista\n",
        "lista.remove('aaa')"
      ],
      "metadata": {
        "id": "dTw7qdcHECR_"
      },
      "execution_count": 44,
      "outputs": []
    },
    {
      "cell_type": "code",
      "source": [
        "print(lista)"
      ],
      "metadata": {
        "id": "OKkQRzAxECUJ"
      },
      "execution_count": null,
      "outputs": []
    },
    {
      "cell_type": "code",
      "source": [
        "print(f\"La lista ahora tiene {len(lista)} elementos\")"
      ],
      "metadata": {
        "id": "qiQGJvJAD6vG"
      },
      "execution_count": null,
      "outputs": []
    },
    {
      "cell_type": "markdown",
      "metadata": {
        "id": "PhFEZPVHmC8m"
      },
      "source": [
        "Las tuplas son inmutables, por lo que no tienen los métodos append y remove."
      ]
    },
    {
      "cell_type": "markdown",
      "metadata": {
        "id": "iv2v9S-Cqtqi"
      },
      "source": [
        "### Diccionarios"
      ]
    },
    {
      "cell_type": "code",
      "source": [
        "diccionario = {\n",
        "    'clave': 'valor',\n",
        "    'clave2': 'valor_2',\n",
        "    'clave3': 'valor_3'\n",
        "}"
      ],
      "metadata": {
        "id": "l4RYdSp7ELPL"
      },
      "execution_count": 49,
      "outputs": []
    },
    {
      "cell_type": "code",
      "source": [
        "notas = {'agustin': 5, 'natalia': 2, 'carolina':10}"
      ],
      "metadata": {
        "id": "AZzhEde0ELRd"
      },
      "execution_count": 50,
      "outputs": []
    },
    {
      "cell_type": "code",
      "source": [
        "notas['agustin'] = 7"
      ],
      "metadata": {
        "id": "xNJHUXBlELTp"
      },
      "execution_count": 51,
      "outputs": []
    },
    {
      "cell_type": "code",
      "source": [
        "notas['hernan'] = 10"
      ],
      "metadata": {
        "id": "qLDtcDHwELV4"
      },
      "execution_count": 52,
      "outputs": []
    },
    {
      "cell_type": "code",
      "source": [
        "notas"
      ],
      "metadata": {
        "id": "AsnrA371ELYA"
      },
      "execution_count": null,
      "outputs": []
    },
    {
      "cell_type": "code",
      "source": [
        "type(diccionario)"
      ],
      "metadata": {
        "id": "pBEsZos_EtVA"
      },
      "execution_count": null,
      "outputs": []
    },
    {
      "cell_type": "markdown",
      "metadata": {
        "id": "pEyuj_9qmJrh"
      },
      "source": [
        "Como vimos anteriormente, los diccionarios son objetos que se forman con claves y valores.\n",
        "Para acceder a un item del diccionario utilizamos la clave:"
      ]
    },
    {
      "cell_type": "code",
      "source": [
        "print(diccionario['clave'])"
      ],
      "metadata": {
        "id": "kUY0q9NUEtYC"
      },
      "execution_count": null,
      "outputs": []
    },
    {
      "cell_type": "code",
      "source": [
        "print(diccionario['clave2'])"
      ],
      "metadata": {
        "id": "1Ry3vqrLEtaq"
      },
      "execution_count": null,
      "outputs": []
    },
    {
      "cell_type": "code",
      "source": [
        "print(diccionario['clave3'])"
      ],
      "metadata": {
        "id": "IvPFXrkrEwj1"
      },
      "execution_count": null,
      "outputs": []
    },
    {
      "cell_type": "markdown",
      "metadata": {
        "id": "H0Krcxu-mfmx"
      },
      "source": [
        "Podemos agregar nuevas claves a un diccionario:"
      ]
    },
    {
      "cell_type": "code",
      "source": [
        "diccionario['nueva_clave'] = 'nuevo valor'"
      ],
      "metadata": {
        "id": "ypwEFMYCEwmi"
      },
      "execution_count": 58,
      "outputs": []
    },
    {
      "cell_type": "code",
      "source": [
        "print(diccionario)"
      ],
      "metadata": {
        "id": "f5ufF9sHEwqC"
      },
      "execution_count": null,
      "outputs": []
    },
    {
      "cell_type": "markdown",
      "metadata": {
        "id": "IwtxnIyzm3B-"
      },
      "source": [
        "Para conocer todas las claves de un diccionario, podemos usar el método .keys(). Veamos un ejemplo:"
      ]
    },
    {
      "cell_type": "code",
      "source": [
        "print(diccionario.keys())"
      ],
      "metadata": {
        "id": "WHxP8qIQEwth"
      },
      "execution_count": null,
      "outputs": []
    },
    {
      "cell_type": "markdown",
      "metadata": {
        "id": "FH6vL6PT0zKo"
      },
      "source": [
        "De que tipo es el objeto que nos retorna diccionario.keys()?"
      ]
    },
    {
      "cell_type": "code",
      "source": [
        "tipo = type(diccionario.keys())\n",
        "print(f\"El tipo de el objeto es: {tipo}\")"
      ],
      "metadata": {
        "id": "9waQC8qPE49I"
      },
      "execution_count": null,
      "outputs": []
    },
    {
      "cell_type": "markdown",
      "metadata": {
        "id": "McGw885dm98l"
      },
      "source": [
        "Para conocer los valores de un diccionario, existe el método .values()"
      ]
    },
    {
      "cell_type": "code",
      "source": [
        "tipo = type(diccionario.values())\n",
        "print(f\"El tipo de el objeto es: {tipo}\")"
      ],
      "metadata": {
        "id": "W1AclHu0E4_p"
      },
      "execution_count": null,
      "outputs": []
    },
    {
      "cell_type": "code",
      "source": [
        "print(diccionario.values())"
      ],
      "metadata": {
        "id": "ZYG7kHb1E5CE"
      },
      "execution_count": null,
      "outputs": []
    },
    {
      "cell_type": "markdown",
      "metadata": {
        "id": "fX7Rno3jloj7"
      },
      "source": [
        "## Palabras reservadas\n",
        "\n",
        "En python, asi como en todos los lenguajes de programación, hay palabras reservadas. Estas palabras no podemos utilizarlas como nombres de variables. Vamos a ir descubriendolas mientras aprendamos, pero algunos ejemplos son:\n",
        "\n",
        "- str\n",
        "- int\n",
        "- for\n",
        "- None\n",
        "- True\n",
        "- False\n",
        "- while\n",
        "- if\n",
        "- else"
      ]
    },
    {
      "cell_type": "markdown",
      "metadata": {
        "id": "cJn48aX4uGvf"
      },
      "source": [
        "# Funciones\n",
        "\n",
        "Dijimos que en python podemos definir nuestras propias funciones y reutilizarlas donde querramos.\n",
        "\n",
        "Como lo hacemos?\n",
        "\n",
        "Una función en python se define de la siguiente manera:\n",
        "\n",
        "\n",
        "\n",
        "```\n",
        "def nombre_de_la_función(parametro1, parametro2):\n",
        "  ...\n",
        "  bloque de código\n",
        "  ...\n",
        "  return algunValor\n",
        "```\n",
        "\n",
        "Una función puede recibir 0 o tantos parámetros como necesitemos y opcionalmente retornar algún valor\n",
        "\n",
        "Para llamarla simplemente escribimos su nombre y le pasamos los parámetros que necesite (si es que necesita)\n",
        "\n",
        "Veamos algunos ejemplos:"
      ]
    },
    {
      "cell_type": "code",
      "execution_count": 1,
      "metadata": {
        "id": "G4l0o_btuFrE"
      },
      "outputs": [],
      "source": [
        "# Función que no recibe parámetros y no retorna ningún valor\n",
        "def nuestra_funcion():\n",
        "  print(\"Nuestra primer funcion que no retorna nada y simplemente imprime un mensaje\")"
      ]
    },
    {
      "cell_type": "code",
      "source": [
        "nuestra_funcion()"
      ],
      "metadata": {
        "id": "LUYdRnv77JVx"
      },
      "execution_count": null,
      "outputs": []
    },
    {
      "cell_type": "code",
      "execution_count": null,
      "metadata": {
        "id": "2dwBbbg7vh9U"
      },
      "outputs": [],
      "source": [
        "# Función que recibe parámetros pero no retorna ningún valor\n",
        "\n",
        "def otra_funcion(parametro):\n",
        "  print(f\"el parametro toma el valor: {parametro}\")\n",
        "\n",
        "otra_funcion(\"un valor\")\n",
        "otra_funcion(5)\n",
        "otra_funcion([1,2,3])"
      ]
    },
    {
      "cell_type": "code",
      "execution_count": 4,
      "metadata": {
        "id": "LOAOvW27vzNa"
      },
      "outputs": [],
      "source": [
        "# Función que recibe parámetros y retorna un valor\n",
        "def suma(a, b):\n",
        "    return a+b"
      ]
    },
    {
      "cell_type": "code",
      "execution_count": null,
      "metadata": {
        "id": "wdS5k5bwv5RJ"
      },
      "outputs": [],
      "source": [
        "c = suma(5, 6)\n",
        "print(c)"
      ]
    },
    {
      "cell_type": "markdown",
      "metadata": {
        "id": "p_ytekGUwBli"
      },
      "source": [
        "##### Docstrings\n",
        "\n",
        "Es una muy buena práctica, documentar lo que hacemos. Muchas veces otras personas van a ver nuestro código, nuestros análisis en notebooks, etc y no es simple ver el código de otra persona cuando no hay ningún comentario.\n",
        "\n",
        "Tenemos que acostumbrarnos desde ahora a comentar bien las funciones que hacemos y aprovechar las celdas de texto que nos brindan las notebooks para explicar lo que vamos haciendo.\n",
        "\n",
        "En python, una forma de describir lo que hace una función es usando docstings. Esto es, una descripción que se pone entre 3 comillas \"\"\" al principio de la funcion. Por ejemplo:"
      ]
    },
    {
      "cell_type": "code",
      "execution_count": 6,
      "metadata": {
        "id": "xW1bCpTNwnfc"
      },
      "outputs": [],
      "source": [
        "def suma(a, b):\n",
        "  \"\"\"\n",
        "  Esta funcion retorna la suma de los valores de a y b.\n",
        "  Params:\n",
        "  - a: número a (int)\n",
        "  - b: número b (int)\n",
        "  \"\"\"\n",
        "  return a + b"
      ]
    },
    {
      "cell_type": "markdown",
      "metadata": {
        "id": "UKx76sJvw1CV"
      },
      "source": [
        "Otra buena práctica, es especificar el tipo de dato que esperamos que reciba una función y el tipo de dato que devuelve. Esto se hace de la siguiente forma:"
      ]
    },
    {
      "cell_type": "code",
      "execution_count": 7,
      "metadata": {
        "id": "TEFPbnuVw74h"
      },
      "outputs": [],
      "source": [
        "def suma(a: int, b: int) -> int:\n",
        "  \"\"\"\n",
        "  Esta funcion retorna la suma de los valores de a y b.\n",
        "  Params:\n",
        "  - a: número a (int)\n",
        "  - b: número b (int)\n",
        "  \"\"\"\n",
        "  return a + b"
      ]
    },
    {
      "cell_type": "markdown",
      "metadata": {
        "id": "ys2vLUNqzsrc"
      },
      "source": [
        "Además, cuando definimos una función con docstings, al utilizar la funcion `help`de python, ese docstring se imprime y puede ser muy util para otra persona que quiera usar nuestra función!"
      ]
    },
    {
      "cell_type": "code",
      "execution_count": null,
      "metadata": {
        "id": "UxJ4lpQwzfKM"
      },
      "outputs": [],
      "source": [
        "help(suma)"
      ]
    },
    {
      "cell_type": "markdown",
      "metadata": {
        "id": "sT0wn2aju550"
      },
      "source": [
        "-Parametros por defecto"
      ]
    },
    {
      "cell_type": "code",
      "execution_count": 9,
      "metadata": {
        "id": "k-mKgXUZu71H"
      },
      "outputs": [],
      "source": [
        "def resta(a=None, b=None):\n",
        "    if a == None or b == None:\n",
        "        print(\"Error, debes enviar dos números a la función\")\n",
        "        return   # indicamos el final de la función aunque no devuelva nada\n",
        "    else:\n",
        "      return a-b\n",
        "\n",
        "#resta()"
      ]
    },
    {
      "cell_type": "code",
      "execution_count": null,
      "metadata": {
        "id": "rFCo7WZT5Cyq"
      },
      "outputs": [],
      "source": [
        "resta(2,1)"
      ]
    },
    {
      "cell_type": "markdown",
      "metadata": {
        "id": "TZTRD5BPuO7_"
      },
      "source": [
        "# Ejercicios Extra!\n",
        "\n",
        "1) Realiza una función llamada `relacion(a, b)` que a partir de dos números cumpla lo siguiente:\n",
        "\n",
        "Si el primer número es mayor que el segundo, debe devolver 1.\n",
        "Si el primer número es menor que el segundo, debe devolver -1.\n",
        "Si ambos números son iguales, debe devolver un 0.\n",
        "\n",
        "\n",
        "2) Realiza una función `separar(lista)` que tome una lista de números enteros y devuelva dos listas ordenadas. La primera con los números pares y la segunda con los números impares.\n",
        "\n"
      ]
    },
    {
      "cell_type": "markdown",
      "metadata": {
        "id": "nFr1UJO_sNVs"
      },
      "source": [
        "# Numpy\n",
        "\n",
        "Recuerden que siempre pueden tener la documentación a mano cuando necesitan algo: https://numpy.org/doc/stable/\n",
        "\n",
        "\n",
        "Lo primero que tenemos que hacer siempre que vayamos a usar una librería, es instalarla.\n",
        "\n",
        "En python, las librerías se pueden instalar con el comando `pip install NombreDeLaLibreria` o en el caso de que estemos en un environment de conda, 'conda install'.\n",
        "\n",
        "Siempre en la documentación de una librería nos van a explicar como instalarla.\n",
        "\n",
        "Si instalamos anaconda o usamos google colab, numpy ya viene instalado. Si no, debemos correr el siguiente comando:"
      ]
    },
    {
      "cell_type": "code",
      "execution_count": null,
      "metadata": {
        "id": "LkkiEMGStN5n"
      },
      "outputs": [],
      "source": [
        "!pip install numpy"
      ]
    },
    {
      "cell_type": "markdown",
      "metadata": {
        "id": "YhBSvAbFtQu7"
      },
      "source": [
        "Vemos que dice: Requirement already satisfied: numpy in /usr/local/lib/python3.7/dist-packages (1.23.5) (la version se ira modificando en el futuro)\n",
        "\n",
        "Esto quiere decir que ya la teníamos instalada desde antes.\n",
        "\n",
        "Una vez que instalamos una librería, tenemos que importarla para poder usarla. En python, esto se hace de la siguiente manera:"
      ]
    },
    {
      "cell_type": "code",
      "execution_count": 13,
      "metadata": {
        "id": "NwC9Q3LvtPP1"
      },
      "outputs": [],
      "source": [
        "import numpy as np"
      ]
    },
    {
      "cell_type": "markdown",
      "metadata": {
        "id": "7veZ6OtRthYa"
      },
      "source": [
        "La parte que dice `as np` se denomina alias. Esto es para que cuando querramos llamar a la librería, no tengamos que poner su nombre completo y podamos llamarla simplemente con el alias `np`.\n",
        "\n",
        "## Numpy array\n",
        "\n",
        "El elemento principal de numpy es el numpy array. Para crear uno hay varias formas, una de ellas es pasándo una lista como parámetro:"
      ]
    },
    {
      "cell_type": "code",
      "execution_count": null,
      "metadata": {
        "id": "OmLD3uMltgsH"
      },
      "outputs": [],
      "source": [
        "lista = [1,2,3,4]\n",
        "numpy_array = np.array(lista)\n",
        "print(lista)\n",
        "print(numpy_array)"
      ]
    },
    {
      "cell_type": "markdown",
      "metadata": {
        "id": "f1LsFswMzJs2"
      },
      "source": [
        "En este caso, en el que el array esta compuesto por un rango de números en forma ascendente, numpy nos brinda formas más rapidas de crear un array:"
      ]
    },
    {
      "cell_type": "code",
      "execution_count": null,
      "metadata": {
        "id": "fPjLxuSSzH7X"
      },
      "outputs": [],
      "source": [
        "np.arange(4)"
      ]
    },
    {
      "cell_type": "markdown",
      "metadata": {
        "id": "56U0CwSfzbOx"
      },
      "source": [
        "Este array empieza desde 0, nuestra lista anterior arrancaba desde 1. ¿ Cómo podremos hacer que el array arranque desde 1 ?\n",
        "Para responder preguntas de este tipo, la documentación y el comando help() son muy útiles.\n",
        "\n",
        "Veamos que dice el comando help:"
      ]
    },
    {
      "cell_type": "code",
      "execution_count": null,
      "metadata": {
        "id": "5nyX2VKUzXbP"
      },
      "outputs": [],
      "source": [
        "help(np.arange)"
      ]
    },
    {
      "cell_type": "markdown",
      "metadata": {
        "id": "mLdwZast0LF-"
      },
      "source": [
        "Ahora, tratemos de generar un array de 6 elementos que arranque desde el valor 0!"
      ]
    },
    {
      "cell_type": "code",
      "execution_count": null,
      "metadata": {
        "id": "rFBMtZhHz5r3"
      },
      "outputs": [],
      "source": [
        "nuevo_array = np.arange( ... ) # COMPLETAR (EJERCICIO)\n",
        "print(nuevo_array)"
      ]
    },
    {
      "cell_type": "markdown",
      "metadata": {
        "id": "OYYh1nP-08La"
      },
      "source": [
        "### Operaciones sobre listas y arrays de numpy"
      ]
    },
    {
      "cell_type": "markdown",
      "metadata": {
        "id": "jCOjoam_0hzF"
      },
      "source": [
        "Otra funcionalidad muy útil que nos provee numpy, es la posibilidad de realizar una operación matemática sobre cada elemento de la lista de una forma muy simple.\n",
        "\n",
        "Si queremos hacer esto con una lista común de python, vamos a necesitar iterar sobre cada elemento (con un for). Numpy nos ahorra ese paso:"
      ]
    },
    {
      "cell_type": "code",
      "execution_count": null,
      "metadata": {
        "id": "IrKN4glp0ez6",
        "scrolled": true
      },
      "outputs": [],
      "source": [
        "# Al hacerlo sobre una lista, vamos a obtener un error:\n",
        "\n",
        "[1,2,3] + 1"
      ]
    },
    {
      "cell_type": "code",
      "execution_count": null,
      "metadata": {
        "id": "MjjzQUNx5Cyu"
      },
      "outputs": [],
      "source": [
        "l = [1,2,3,4,5,6]\n",
        "l_sum = []\n",
        "for elem in l:\n",
        "    elemento = elem +1\n",
        "    l_sum.append(elemento)\n",
        "l_sum"
      ]
    },
    {
      "cell_type": "code",
      "execution_count": null,
      "metadata": {
        "id": "cnkH7L4RCXR2"
      },
      "outputs": [],
      "source": [
        "# Si queremos hacerlo sobre una lista tenemos que usar list comprehension\n",
        "\n",
        "l = [1,2,3,4,5,6]\n",
        "l_sum = [item + 1 for item in l]\n",
        "l_sum"
      ]
    },
    {
      "cell_type": "code",
      "execution_count": null,
      "metadata": {
        "id": "ZG2-z4mi1G2z"
      },
      "outputs": [],
      "source": [
        "# Pero sobre un numpy array, lo podemos hacer simplemente sumando un número:\n",
        "\n",
        "np.arange(1,7) + 1"
      ]
    },
    {
      "cell_type": "code",
      "execution_count": null,
      "metadata": {
        "id": "z1-pEz_I1OhM"
      },
      "outputs": [],
      "source": [
        "np.arange(1,7) * 5"
      ]
    },
    {
      "cell_type": "markdown",
      "metadata": {
        "id": "aqzrRe1L3FFX"
      },
      "source": [
        "### Arrays multidimensionales\n",
        "\n",
        "Al igual que las listas, los arrays de numpy pueden ser n-dimensionales"
      ]
    },
    {
      "cell_type": "code",
      "execution_count": null,
      "metadata": {
        "id": "g28WwZeC3Ko0"
      },
      "outputs": [],
      "source": [
        "n_dimensiones = np.array([[[1,2,3], [4,5,6]],\n",
        "                          [[7,8,9], [10, 11, 12]]])\n",
        "n_dimensiones"
      ]
    },
    {
      "cell_type": "markdown",
      "metadata": {
        "id": "P07kfllq1ZA1"
      },
      "source": [
        "### Shape\n",
        "\n",
        "Vimos que los arrays de numpy tienen un atributo que se llama `shape`. Esto nos dice la \"forma\" que tiene el array. Veamos un ejemplo:"
      ]
    },
    {
      "cell_type": "code",
      "execution_count": null,
      "metadata": {
        "id": "aG12kFQE1RD7"
      },
      "outputs": [],
      "source": [
        "n_dimensiones.shape"
      ]
    },
    {
      "cell_type": "markdown",
      "metadata": {
        "id": "Ofc5pqH73qlh"
      },
      "source": [
        "El shape de un array puede modificarse con la función reshape() de numpy:"
      ]
    },
    {
      "cell_type": "code",
      "execution_count": null,
      "metadata": {
        "id": "JofXc_WC3cz3"
      },
      "outputs": [],
      "source": [
        "una_dim = np.arange(5)\n",
        "una_dim"
      ]
    },
    {
      "cell_type": "code",
      "execution_count": null,
      "metadata": {
        "id": "gI8I1-Wx37QJ"
      },
      "outputs": [],
      "source": [
        "una_dim.shape"
      ]
    },
    {
      "cell_type": "code",
      "execution_count": null,
      "metadata": {
        "id": "II1Ond303zZt"
      },
      "outputs": [],
      "source": [
        "# (filas, columnas)\n",
        "una_dim = una_dim.reshape(5, 1)\n",
        "una_dim"
      ]
    },
    {
      "cell_type": "code",
      "execution_count": null,
      "metadata": {
        "id": "w-aNoKUF34hF"
      },
      "outputs": [],
      "source": [
        "una_dim = una_dim.reshape(1, 5)\n",
        "una_dim"
      ]
    },
    {
      "cell_type": "markdown",
      "metadata": {
        "id": "wZ6jhoVC4ed7"
      },
      "source": [
        "### Linspace\n",
        "\n",
        "La función linspace de numpy, nos permite crear arreglos de una forma similar a arange().\n",
        "\n",
        "La diferencia con arange() es que en esta función, se crean n elementos igualmente espaciados en un intervalo que definamos.\n",
        "\n",
        "Por ejemplo, si queremos crear un array de 10 elementos igualmente espaciados entre 0 y 1:"
      ]
    },
    {
      "cell_type": "code",
      "execution_count": null,
      "metadata": {
        "id": "kK4oPBKa4OwD"
      },
      "outputs": [],
      "source": [
        "np.linspace(0, 1,10)"
      ]
    },
    {
      "cell_type": "markdown",
      "metadata": {
        "id": "eGizr4fG77T-"
      },
      "source": [
        "Recuerden que siempre se puede usar help!"
      ]
    },
    {
      "cell_type": "code",
      "execution_count": null,
      "metadata": {
        "id": "Y8Pr1LfN79Si"
      },
      "outputs": [],
      "source": [
        "help(np.linspace)"
      ]
    },
    {
      "cell_type": "markdown",
      "metadata": {
        "id": "BEi0rt9i7__c"
      },
      "source": [
        "Y también tenemos documentación: https://numpy.org/doc/stable/reference/generated/numpy.linspace.html"
      ]
    },
    {
      "cell_type": "markdown",
      "metadata": {
        "id": "QKotqFtJ9csj"
      },
      "source": [
        "### Zeros y Ones\n",
        "\n",
        "Numpy también nos permite crear un array de tantos 0s o 1s como querramos"
      ]
    },
    {
      "cell_type": "code",
      "execution_count": null,
      "metadata": {
        "id": "g7NuVwf09i0m"
      },
      "outputs": [],
      "source": [
        "np.ones(10)"
      ]
    },
    {
      "cell_type": "code",
      "execution_count": null,
      "metadata": {
        "id": "p0buVgVy9knG"
      },
      "outputs": [],
      "source": [
        "np.zeros(10)"
      ]
    },
    {
      "cell_type": "markdown",
      "metadata": {
        "id": "smwpJlME94tO"
      },
      "source": [
        "O podemos usar la función full() y crear un array con la shape y el valor que querramos:"
      ]
    },
    {
      "cell_type": "code",
      "execution_count": null,
      "metadata": {
        "id": "7G4TDPLO9oJK"
      },
      "outputs": [],
      "source": [
        "np.full(shape=(10,10), fill_value=3)"
      ]
    },
    {
      "cell_type": "markdown",
      "metadata": {
        "id": "ddn-Mh2m5txI"
      },
      "source": [
        "### Acceder a elementos del array\n",
        "\n",
        "Al igual que una lista, para acceder a los elementos de un array de numpy podemos utilizar el indice de los elementos que querramos o un rango [start:stop:step]"
      ]
    },
    {
      "cell_type": "code",
      "execution_count": null,
      "metadata": {
        "id": "evltswHY5Cy0"
      },
      "outputs": [],
      "source": [
        "numpy_array"
      ]
    },
    {
      "cell_type": "code",
      "execution_count": null,
      "metadata": {
        "id": "CBv-w0nb571N"
      },
      "outputs": [],
      "source": [
        "numpy_array[1]"
      ]
    },
    {
      "cell_type": "code",
      "execution_count": null,
      "metadata": {
        "id": "BFEg7RZq5_SN"
      },
      "outputs": [],
      "source": [
        "numpy_array[0:3]"
      ]
    },
    {
      "cell_type": "markdown",
      "metadata": {
        "id": "Q7_TneBT49AQ"
      },
      "source": [
        "### Mask\n",
        "\n",
        "Muchas veces vamos a tener arrays enormes con datos y queremos filtrarlos. Por ejemplo, de un array queremos obtener todos los números que sean menores a 10.\n",
        "\n",
        "Para hacer esto en una lista de python, deberíamos iterar sobre toda la lista. Podemos evitarlo usando masks en numpy.\n",
        "\n",
        "Las masks (o filtros booleanos) se definen como una condición, por ejemplo para el caso en el que queremos saber si un elemento es < 10:\n",
        "\n",
        "`lista < 10`\n",
        "\n",
        "Esto nos va a retornar otra lista (con el mismo shape que la lista a la que le aplicamos la mask) pero que va a contener los valores `True` y `False`.\n",
        "\n",
        "True en los casos que se cumple la condición, False de lo contrario.\n"
      ]
    },
    {
      "cell_type": "code",
      "execution_count": null,
      "metadata": {
        "id": "Og1VGsHL40uL"
      },
      "outputs": [],
      "source": [
        "lista_a_filtrar = np.arange(100).reshape(10, 10) # Creamos una lista de 100 elementos con shape (10, 10), es decir, 10 filas y 10 columnas\n",
        "lista_a_filtrar"
      ]
    },
    {
      "cell_type": "code",
      "execution_count": null,
      "metadata": {
        "id": "vD-BGQhk5N9o"
      },
      "outputs": [],
      "source": [
        "# Definimos la Mask\n",
        "\n",
        "mask = lista_a_filtrar < 10\n",
        "mask"
      ]
    },
    {
      "cell_type": "markdown",
      "metadata": {
        "id": "0GumFE1_7aLz"
      },
      "source": [
        "Ahora, la Mask nos retorna otra lista con valores booleanos, pero si queremos usar esto para filtrar (aplicar la mascara), como hacemos?\n",
        "\n",
        "Es simple, se define de la siguiente manera:"
      ]
    },
    {
      "cell_type": "code",
      "execution_count": null,
      "metadata": {
        "id": "p20enwRn7WAu"
      },
      "outputs": [],
      "source": [
        "lista_filtrada = lista_a_filtrar[mask]\n",
        "lista_filtrada"
      ]
    },
    {
      "cell_type": "markdown",
      "metadata": {
        "id": "6LLeb5AZ-t9_"
      },
      "source": [
        "Las máscaras no sirven solo para filtrar, también podemos asignar un valor a los elementos que cumplan la condición. Veamos un ejemplo: Reemplacemos todos los elementos que sean menores a 10 por el numero 10:"
      ]
    },
    {
      "cell_type": "code",
      "execution_count": null,
      "metadata": {
        "id": "PerRcMPW-4pY"
      },
      "outputs": [],
      "source": [
        "lista_elementos = np.arange(20)\n",
        "mask = lista_elementos < 10\n",
        "lista_elementos[mask] = 10 # Asignamos el valor \"menor\" a todos los items que cumplen la condicion\n",
        "lista_elementos"
      ]
    },
    {
      "cell_type": "markdown",
      "metadata": {
        "id": "c9VRDoEI8Lwp"
      },
      "source": [
        "### Otras funciones\n",
        "\n",
        "No podemos ver todas las funciones que nos brinda numpy en una clase, pero vamos a ver algunas de las más comunes ya que el resto tiene una sintaxis similar.\n",
        "\n",
        "Si queremos sumar todos los elementos de un array:"
      ]
    },
    {
      "cell_type": "code",
      "execution_count": null,
      "metadata": {
        "id": "N3964JSe7mA3"
      },
      "outputs": [],
      "source": [
        "lista_a_filtrar.sum()"
      ]
    },
    {
      "cell_type": "code",
      "execution_count": null,
      "metadata": {
        "id": "RbvVYUDj5Cy2"
      },
      "outputs": [],
      "source": [
        "lista_a_filtrar"
      ]
    },
    {
      "cell_type": "markdown",
      "metadata": {
        "id": "hy-Ip1Bc8uVL"
      },
      "source": [
        "En numpy, las funciones se pueden aplicar por \"axis\" (eje). Por ejemplo, podemos aplicar la función sum() sobre cada columna:"
      ]
    },
    {
      "cell_type": "code",
      "execution_count": null,
      "metadata": {
        "id": "ZERi_mTW8nm5"
      },
      "outputs": [],
      "source": [
        "# Por columnas\n",
        "\n",
        "lista_a_filtrar.sum(axis=0)"
      ]
    },
    {
      "cell_type": "markdown",
      "metadata": {
        "id": "vhTkdG238_W1"
      },
      "source": [
        "O sobre cada fila:\n"
      ]
    },
    {
      "cell_type": "code",
      "execution_count": null,
      "metadata": {
        "id": "2oJxxrf683pv"
      },
      "outputs": [],
      "source": [
        "# Por filas\n",
        "\n",
        "lista_a_filtrar.sum(axis=1)"
      ]
    }
  ],
  "metadata": {
    "colab": {
      "provenance": []
    },
    "kernelspec": {
      "display_name": "Python 3",
      "language": "python",
      "name": "python3"
    },
    "language_info": {
      "codemirror_mode": {
        "name": "ipython",
        "version": 3
      },
      "file_extension": ".py",
      "mimetype": "text/x-python",
      "name": "python",
      "nbconvert_exporter": "python",
      "pygments_lexer": "ipython3",
      "version": "3.8.8"
    },
    "vscode": {
      "interpreter": {
        "hash": "892d461b55a6ce994a56bafd67ae2f3489d9f23234c096cfb51dfe498c166e4b"
      }
    }
  },
  "nbformat": 4,
  "nbformat_minor": 0
}