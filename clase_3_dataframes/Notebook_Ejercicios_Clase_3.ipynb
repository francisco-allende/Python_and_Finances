{
  "nbformat": 4,
  "nbformat_minor": 0,
  "metadata": {
    "colab": {
      "provenance": []
    },
    "kernelspec": {
      "name": "python3",
      "display_name": "Python 3"
    },
    "language_info": {
      "name": "python"
    }
  },
  "cells": [
    {
      "cell_type": "code",
      "execution_count": null,
      "metadata": {
        "id": "ApL83sq7DkG7"
      },
      "outputs": [],
      "source": [
        "import pandas as pd\n",
        "from sklearn.datasets import load_wine   #obtenemos los datos de esta libreria\n",
        "\n",
        "# Cargamos el conjunto de datos de vinos\n",
        "wine = load_wine()\n",
        "\n",
        "# Creamos un DataFrame con los datos\n",
        "df_wine = pd.DataFrame(data=wine.data, columns=wine.feature_names)\n",
        "\n",
        "# Mostramos las primeras filas del DataFrame\n",
        "df_wine.head()"
      ]
    }
  ]
}