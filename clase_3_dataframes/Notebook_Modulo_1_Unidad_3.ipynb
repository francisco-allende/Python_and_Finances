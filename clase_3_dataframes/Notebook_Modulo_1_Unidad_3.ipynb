{
  "cells": [
    {
      "cell_type": "markdown",
      "metadata": {
        "id": "BjCLmyCS98Kv"
      },
      "source": [
        "# Pandas\n",
        "\n",
        "Pandas es otra librería muy utilizada. El principal concepto detrás de Pandas es el DataFrame.\n",
        "\n",
        "Un DataFrame es una estructura de datos con dos dimensiones en la cual se puede guardar datos de distintos tipos (como caractéres, enteros, valores de punto flotante, factores y más) en columnas. En un DataFrame se van a almacenar los datos con los que querramos trabajar.\n",
        "\n",
        "Pandas nos provee muchas funciones para manipular datos en un DataFrame.\n",
        "\n",
        "Pandas corre sobre Numpy, de manera que hay muchas cosas en comun."
      ]
    },
    {
      "cell_type": "code",
      "execution_count": 2,
      "metadata": {
        "id": "ApffDKCN-HkI"
      },
      "outputs": [],
      "source": [
        "import pandas as pd"
      ]
    },
    {
      "cell_type": "markdown",
      "metadata": {
        "id": "pAkYpweiEoRT"
      },
      "source": [
        "Un DataFrame se puede crear por ejemplo, a partir de un archivo csv (caso más común).\n",
        "\n",
        "Para eso, pandas nos provee la función read_csv. Usaremos el archivo adjunto en la Unidad llamado \"iris_dataset.csv\".\n",
        "\n",
        "OJO: Hay que especificar bien la ruta segun donde y como estemos cargando el archivo\n"
      ]
    },
    {
      "cell_type": "code",
      "execution_count": 3,
      "metadata": {
        "id": "iQfc9AfPEndn"
      },
      "outputs": [],
      "source": [
        "iris_dataset = pd.read_csv(\"iris_dataset.csv\")"
      ]
    },
    {
      "cell_type": "code",
      "execution_count": null,
      "metadata": {
        "id": "znQpjuFXGIyW"
      },
      "outputs": [],
      "source": [
        "iris_dataset"
      ]
    },
    {
      "cell_type": "markdown",
      "metadata": {
        "id": "l2p5q4g3GZ4P"
      },
      "source": [
        "Lo que hicimos fue leer un archivo csv y meterlo dentro de un DataFrame de pandas. Este DataFrame tiene filas y columnas.\n",
        "\n",
        "Cad columna tiene un tipo de dato. Esto podemos verlo con la función info()"
      ]
    },
    {
      "cell_type": "code",
      "execution_count": null,
      "metadata": {
        "id": "jHmyCGNfGvoj"
      },
      "outputs": [],
      "source": [
        "iris_dataset.info()"
      ]
    },
    {
      "cell_type": "markdown",
      "metadata": {
        "id": "4CYrbZvZGykz"
      },
      "source": [
        "Nos dice que todas las columnas son del tipo float, a excepción de \"species\" que es del tipo \"object\".\n",
        "\n",
        "Es importante tener en cuenta el tipo de datos de las columnas ya que de esto depende las operaciones que podemos hacer sobre las mismas.\n",
        "\n",
        "El dataset que estamos usando (iris_dataset) es muy conocido, pueden googlear para saber más del mismo.\n",
        "\n",
        "\n",
        "Otra función muy útil de los DataFrames es describe()\n"
      ]
    },
    {
      "cell_type": "code",
      "execution_count": null,
      "metadata": {
        "id": "G_Tj47H8GxMx"
      },
      "outputs": [],
      "source": [
        "iris_dataset.describe()"
      ]
    },
    {
      "cell_type": "markdown",
      "metadata": {
        "id": "WwoyrgzTHOKp"
      },
      "source": [
        "Describe, nos da datos estadísticos de nuesto DataFrame.\n",
        "\n",
        "Un DataFrame, puede tener valores faltantes. Estos valores faltantes en pandas se representan como NaN.\n",
        "\n",
        "Cuántos datos faltantes hay en este DataFrame?"
      ]
    },
    {
      "cell_type": "code",
      "execution_count": null,
      "metadata": {
        "id": "DKkQ8auQHMrX"
      },
      "outputs": [],
      "source": [
        "iris_dataset.isna().sum()"
      ]
    },
    {
      "cell_type": "markdown",
      "metadata": {
        "id": "KPUPxomxHhcf"
      },
      "source": [
        "Ninguno! Este dataset no tiene datos faltantes.\n",
        "\n",
        "También podemos aplicar funciones sobre una columna.\n",
        "\n",
        "Para seleccionar una columna, utilizamos []."
      ]
    },
    {
      "cell_type": "code",
      "execution_count": null,
      "metadata": {
        "id": "YD0wzTIOHgmX"
      },
      "outputs": [],
      "source": [
        "iris_dataset['sepal_length']"
      ]
    },
    {
      "cell_type": "markdown",
      "metadata": {
        "id": "ZNDN9xqRJK9I"
      },
      "source": [
        "En este caso, puedo seleccionar todas las columnas que quiera"
      ]
    },
    {
      "cell_type": "code",
      "execution_count": null,
      "metadata": {
        "id": "HV6T3X7HJKBR"
      },
      "outputs": [],
      "source": [
        "iris_dataset_resumido = iris_dataset[['sepal_length', 'sepal_width', 'species']]"
      ]
    },
    {
      "cell_type": "code",
      "source": [
        "df_copia = iris_dataset_resumido.copy()  #Generamos una copia y la almacenamos en un dataframe llamado df_copia"
      ],
      "metadata": {
        "id": "o8ExLEv-tidG"
      },
      "execution_count": null,
      "outputs": []
    },
    {
      "cell_type": "markdown",
      "metadata": {
        "id": "NbdCTcmQJjQB"
      },
      "source": [
        "Los DataFrames también tienen un atributo \"columns\":"
      ]
    },
    {
      "cell_type": "code",
      "execution_count": null,
      "metadata": {
        "id": "I2xcImTDJQHT"
      },
      "outputs": [],
      "source": [
        "iris_dataset.columns"
      ]
    },
    {
      "cell_type": "markdown",
      "metadata": {
        "id": "dKCpqW9VJsMg"
      },
      "source": [
        "Y otro atributo index:"
      ]
    },
    {
      "cell_type": "code",
      "execution_count": null,
      "metadata": {
        "id": "dRd08pqXJrUn"
      },
      "outputs": [],
      "source": [
        "iris_dataset.index"
      ]
    },
    {
      "cell_type": "markdown",
      "metadata": {
        "id": "gLg3Di2UJwTM"
      },
      "source": [
        "Podemos elegir cualquier columna como index:"
      ]
    },
    {
      "cell_type": "code",
      "execution_count": null,
      "metadata": {
        "id": "na1fyzyEJvDU"
      },
      "outputs": [],
      "source": [
        "iris_dataset = iris_dataset.set_index('sepal_length')"
      ]
    },
    {
      "cell_type": "markdown",
      "metadata": {
        "id": "fTughQqPKLum"
      },
      "source": [
        "Si nos arrepentimos, podemos resetear el index para que vuelva a ser numérico"
      ]
    },
    {
      "cell_type": "code",
      "execution_count": null,
      "metadata": {
        "id": "K-udXmjKKVJ5"
      },
      "outputs": [],
      "source": [
        "iris_dataset = iris_dataset.reset_index()"
      ]
    },
    {
      "cell_type": "code",
      "execution_count": null,
      "metadata": {
        "id": "5z8DVuVNKPX4"
      },
      "outputs": [],
      "source": [
        "iris_dataset"
      ]
    },
    {
      "cell_type": "markdown",
      "metadata": {
        "id": "ki28ccJoLBby"
      },
      "source": [
        "### Head, Tail y Sample\n",
        "\n",
        "A veces tenemos DataFrames con muchisimos datos y no queremos imprimir todo en un notebook, simplemente algunas filas como ejemplo.\n",
        "\n",
        "Para esto existen las funciones head(), tail() y sample()"
      ]
    },
    {
      "cell_type": "code",
      "execution_count": null,
      "metadata": {
        "id": "Q_mMRwDHLMV5"
      },
      "outputs": [],
      "source": [
        "iris_dataset.head(10)"
      ]
    },
    {
      "cell_type": "code",
      "execution_count": null,
      "metadata": {
        "id": "z2UhPxnPLMYX"
      },
      "outputs": [],
      "source": [
        "iris_dataset.tail(10)"
      ]
    },
    {
      "cell_type": "code",
      "execution_count": null,
      "metadata": {
        "id": "tfp_djLpLMdN",
        "scrolled": true
      },
      "outputs": [],
      "source": [
        "iris_dataset.sample(20, random_state=42)"
      ]
    },
    {
      "cell_type": "markdown",
      "source": [
        "### GroupBy\n"
      ],
      "metadata": {
        "id": "4DxOnXQfMksV"
      }
    },
    {
      "cell_type": "markdown",
      "source": [
        "Lo que podemos hacer, es agrupar por alguna columna, por ejemplo: species y obtener algunas metricas."
      ],
      "metadata": {
        "id": "ZY5oOJnAMuWY"
      }
    },
    {
      "cell_type": "code",
      "source": [
        "iris_dataset.groupby(\"species\").mean()"
      ],
      "metadata": {
        "id": "ep_Fbj9CMsl4"
      },
      "execution_count": null,
      "outputs": []
    },
    {
      "cell_type": "code",
      "source": [
        "iris_dataset.groupby(\"species\").std()"
      ],
      "metadata": {
        "id": "FvJZtR5SMsp3"
      },
      "execution_count": null,
      "outputs": []
    },
    {
      "cell_type": "markdown",
      "source": [
        "### Ordenamiento"
      ],
      "metadata": {
        "id": "yhiuPmUxNX9Z"
      }
    },
    {
      "cell_type": "markdown",
      "source": [
        "Tambien podemos ordenar el dataframe segun alguna columna y de cualquier forma, por ejemplo"
      ],
      "metadata": {
        "id": "5qtDzqh2Nbit"
      }
    },
    {
      "cell_type": "code",
      "source": [
        "iris_dataset.sort_values(by=\"sepal_length\", ascending=True)"
      ],
      "metadata": {
        "id": "Twslvz5vNO2i"
      },
      "execution_count": null,
      "outputs": []
    }
  ],
  "metadata": {
    "colab": {
      "provenance": []
    },
    "kernelspec": {
      "display_name": "Python 3 (ipykernel)",
      "language": "python",
      "name": "python3"
    },
    "language_info": {
      "codemirror_mode": {
        "name": "ipython",
        "version": 3
      },
      "file_extension": ".py",
      "mimetype": "text/x-python",
      "name": "python",
      "nbconvert_exporter": "python",
      "pygments_lexer": "ipython3",
      "version": "3.8.13"
    },
    "vscode": {
      "interpreter": {
        "hash": "892d461b55a6ce994a56bafd67ae2f3489d9f23234c096cfb51dfe498c166e4b"
      }
    }
  },
  "nbformat": 4,
  "nbformat_minor": 0
}