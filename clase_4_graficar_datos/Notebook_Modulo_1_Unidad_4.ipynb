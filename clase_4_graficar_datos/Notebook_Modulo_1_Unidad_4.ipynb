{
  "cells": [
    {
      "cell_type": "markdown",
      "metadata": {
        "id": "hikEpV2DYw-q"
      },
      "source": [
        "# Matplotlib\n",
        "\n",
        "Matplotlib es una librería para visualización de datos en python.\n",
        "\n",
        "Su documentación es muy buena https://matplotlib.org/stable/gallery/index.html\n",
        "\n",
        "La parte de la librería que usaremos para graficar es matplotlib.pyplot y se suele importar con el nombre plt:"
      ]
    },
    {
      "cell_type": "code",
      "execution_count": null,
      "metadata": {
        "id": "53ZeIQXab7Oz"
      },
      "outputs": [],
      "source": [
        "import matplotlib.pyplot as plt"
      ]
    },
    {
      "cell_type": "code",
      "source": [
        "import numpy as np"
      ],
      "metadata": {
        "id": "cPA-Z_EE4baR"
      },
      "execution_count": null,
      "outputs": []
    },
    {
      "cell_type": "markdown",
      "metadata": {
        "id": "pNmx0OuqcH9_"
      },
      "source": [
        "Lo primero que debemos hacer para poder graficar, es crear una figura y unos ejes. La **figura** es el objeto correspondiente al rectángulo sobre el cual graficamos todo; los **ejes** son los distintos pares de ejes que vamos a agregar dentro de una figura."
      ]
    },
    {
      "cell_type": "code",
      "execution_count": null,
      "metadata": {
        "id": "1VZemd9XcBpD"
      },
      "outputs": [],
      "source": [
        "fig = plt.figure()\n",
        "ax = plt.axes()"
      ]
    },
    {
      "cell_type": "markdown",
      "metadata": {
        "id": "m36EnSWecset"
      },
      "source": [
        "## Lineplot\n",
        "\n",
        "Uno de los gráficos que vimos es el gráfico de linea (si el eje X son fechas, es el equivalente a una serie de tiempo).\n",
        "\n",
        "A este gráfico debemos pasarle los argumentos x e y, que tienen que ser 2 listas o arrays del mismo tamaño\n"
      ]
    },
    {
      "cell_type": "code",
      "execution_count": null,
      "metadata": {
        "id": "SWE0xwi_WF8k"
      },
      "outputs": [],
      "source": [
        "x = np.arange(0,2*np.pi, 0.1)\n",
        "y = np.sin(x) # Seno"
      ]
    },
    {
      "cell_type": "code",
      "execution_count": null,
      "metadata": {
        "id": "yjfTi55vc9Wg"
      },
      "outputs": [],
      "source": [
        "fig = plt.figure()\n",
        "ax = plt.axes()\n",
        "ax.plot(x, y)\n",
        "plt.show()"
      ]
    },
    {
      "cell_type": "markdown",
      "metadata": {
        "id": "1HfofnoYhyWk"
      },
      "source": [
        "Además de los datos x e y, le podemos pasar muchos argumentos a la función plot para mejorar nuestro gráfico."
      ]
    },
    {
      "cell_type": "code",
      "execution_count": null,
      "metadata": {
        "id": "_Py8K2ibdE0m"
      },
      "outputs": [],
      "source": [
        "fig = plt.figure()\n",
        "ax = plt.axes()\n",
        "ax.plot(x, y, color='green', linewidth=5, linestyle='--')\n",
        "plt.show()"
      ]
    },
    {
      "cell_type": "markdown",
      "metadata": {
        "id": "hxb-67x0iRgo"
      },
      "source": [
        "También podemos (y siempre deberíamos) agregar títulos a los gráficos"
      ]
    },
    {
      "cell_type": "code",
      "execution_count": null,
      "metadata": {
        "id": "WUHp6s0Vh8XO"
      },
      "outputs": [],
      "source": [
        "fig = plt.figure()\n",
        "ax = plt.axes()\n",
        "ax.plot(x, y, color='green', linewidth=5, linestyle='--')\n",
        "ax.set_title(\"hola\")\n",
        "plt.show()"
      ]
    },
    {
      "cell_type": "markdown",
      "metadata": {
        "id": "DiuEgNv0krU8"
      },
      "source": [
        "Otro aspecto importante a tener en cuenta a la hora de graficar para ser lo más claros y explícitos posibles, es agregar labels.\n",
        "\n",
        "Los labels nos permiten explicitar información sobre los distintos objetos que graficamos."
      ]
    },
    {
      "cell_type": "code",
      "execution_count": null,
      "metadata": {
        "id": "nWVYLEcuk9wS"
      },
      "outputs": [],
      "source": [
        "x2 = np.linspace(0, 5)\n",
        "y2 = x2 / 5"
      ]
    },
    {
      "cell_type": "code",
      "execution_count": null,
      "metadata": {
        "id": "rEzL5yXJigMO"
      },
      "outputs": [],
      "source": [
        "fig = plt.figure()\n",
        "ax = plt.axes()\n",
        "ax.plot(x, y, color='green', linewidth=5, linestyle='--', label='Seno')\n",
        "ax.plot(x2, y2, color='red', linewidth=5, linestyle='-', label='Recta')\n",
        "ax.set_title(\"Funciones\")\n",
        "ax.legend()\n",
        "plt.show()"
      ]
    },
    {
      "cell_type": "markdown",
      "metadata": {
        "id": "K4nWZwVfm2vS"
      },
      "source": [
        "### Subplots\n",
        "\n",
        "Los subplots nos permiten representar varios axes en una misma figura. Matplotlib nos permite hacerlo con la función subplots.\n"
      ]
    },
    {
      "cell_type": "code",
      "execution_count": null,
      "metadata": {
        "id": "G8iyGWr9lK7Y"
      },
      "outputs": [],
      "source": [
        "fig, axes = plt.subplots(nrows=2, ncols=1)"
      ]
    },
    {
      "cell_type": "markdown",
      "metadata": {
        "id": "JdMPTzyPnQEb"
      },
      "source": [
        "Podemos agregar un título general a los subplots"
      ]
    },
    {
      "cell_type": "code",
      "execution_count": null,
      "metadata": {
        "id": "w1pmPIEznLOV"
      },
      "outputs": [],
      "source": [
        "fig, axes = plt.subplots(nrows=2, ncols=1)\n",
        "fig.suptitle(\"Titulo subplots\")\n",
        "plt.show()"
      ]
    },
    {
      "cell_type": "markdown",
      "metadata": {
        "id": "sGF7ORKunc9m"
      },
      "source": [
        "Y para graficar sobre cada axis:"
      ]
    },
    {
      "cell_type": "code",
      "execution_count": null,
      "metadata": {
        "id": "HdY_HFQunXzN"
      },
      "outputs": [],
      "source": [
        "fig, axes = plt.subplots(nrows=2, ncols=1)\n",
        "fig.suptitle(\"Titulo subplots\")\n",
        "axes[0].plot(x, y, color='green', linewidth=5, linestyle='--')\n",
        "axes[1].plot(x2, y2, color='green', linewidth=5, linestyle='--')\n",
        "plt.show()"
      ]
    },
    {
      "cell_type": "markdown",
      "metadata": {
        "id": "nbgktMW8pHXD"
      },
      "source": [
        "## Scatter plot"
      ]
    },
    {
      "cell_type": "code",
      "execution_count": null,
      "metadata": {
        "id": "YGGD51PQo5i3"
      },
      "outputs": [],
      "source": [
        "n = 1000\n",
        "sigma_1 = 2\n",
        "sigma_2 = 2\n",
        "x = np.random.normal(size = n, scale = sigma_1)\n",
        "y = np.random.normal(size = n, scale = sigma_2)\n",
        "\n",
        "# Graficamos\n",
        "plt.scatter(x, y)\n",
        "plt.show()"
      ]
    },
    {
      "cell_type": "code",
      "execution_count": null,
      "metadata": {
        "id": "WEpVMx05pTpg"
      },
      "outputs": [],
      "source": [
        "n = 100\n",
        "x = np.linspace(-1,1,n) + 0.25*np.random.normal(size = n)\n",
        "y = 3*x + 0.25*np.random.normal(size = n)\n",
        "\n",
        "# Graficamos\n",
        "plt.scatter(x, y)\n",
        "plt.show()"
      ]
    },
    {
      "cell_type": "markdown",
      "metadata": {
        "id": "1xG5NVRTyll3"
      },
      "source": [
        "# Seaborn\n",
        "\n",
        "Seaborn es una librería para Python que permite generar fácilmente elegantes gráficos. Seaborn esta basada en matplotlib y proporciona una interfaz de alto nivel que es realmente sencilla de aprender. Dada su gran popularidad se encuentra instalada por defecto en la distribución Anaconda.\n",
        "\n",
        "La manera de utilizarlo es muy parecida (sabiendo usar Matplotlib\n",
        "resulta fácil usar Seaborn).\n",
        "\n",
        "Seaborn nos permite crear gráficos de una manera mucho más simple y con menos líneas de código.\n"
      ]
    },
    {
      "cell_type": "code",
      "execution_count": null,
      "metadata": {
        "id": "yrApjMIfzmhS"
      },
      "outputs": [],
      "source": [
        "import seaborn as sns"
      ]
    },
    {
      "cell_type": "markdown",
      "metadata": {
        "id": "J93ywZsDz34-"
      },
      "source": [
        "Podemos trabajar con el dataset del titanic usado en las diapositivas de la unidad."
      ]
    },
    {
      "cell_type": "code",
      "execution_count": null,
      "metadata": {
        "id": "JC-vkZC8w4rc"
      },
      "outputs": [],
      "source": [
        "titanic_df = pd.read_csv('ruta.../titanic.csv') ## Especificar la ruta completa + nombre.extension del archivo"
      ]
    },
    {
      "cell_type": "code",
      "execution_count": null,
      "metadata": {
        "id": "BK-myAtzxr7S"
      },
      "outputs": [],
      "source": [
        "titanic_df.head()"
      ]
    },
    {
      "cell_type": "markdown",
      "metadata": {
        "id": "pVp_kGXVz_SI"
      },
      "source": [
        "¿ Se acuerdan del scatterplot en matplotlib ? Bueno, con seaborn también podemos hacer este y muchos más gráficos.\n",
        "\n",
        "En el caso de scatterplot, a seaborn tenemos que pasarle el nombre de las columnas del dataframe que queremos graficar.\n",
        "\n",
        "Por ejemplo, queremos ver si se observa alguna relación entre las variables Age y Fare."
      ]
    },
    {
      "cell_type": "code",
      "execution_count": null,
      "metadata": {
        "id": "DcveLAqe0TxO"
      },
      "outputs": [],
      "source": [
        "sns.scatterplot(x=\"Age\", y=\"Fare\", data=titanic_df)"
      ]
    },
    {
      "cell_type": "markdown",
      "metadata": {
        "id": "_LNURIrC0seE"
      },
      "source": [
        "### HUE\n",
        "\n",
        "Cuando queremos incluir una 3er variable en nuestros gráficos, utilizamos el parámetro \"hue\".\n",
        "\n",
        "En la propiedad hue debemos indicar el nombre de la columna de dataframe que se desea utilizar para separar.\n",
        "\n",
        "Veamos un ejemplo, en el gráfico anterior utilicemos como hue la variable Sex"
      ]
    },
    {
      "cell_type": "code",
      "execution_count": null,
      "metadata": {
        "id": "QHQckcSL1eru"
      },
      "outputs": [],
      "source": [
        "sns.scatterplot(x=\"Age\", y=\"Fare\", hue='Sex', data=titanic_df)"
      ]
    },
    {
      "cell_type": "markdown",
      "metadata": {
        "id": "To2NF_em1oHc"
      },
      "source": [
        "### Countplot\n",
        "\n",
        "Un gráfico muy útil para saber la cantidad de ejemplos que tenemos de cada valor de una columna categórica, es el countplot de seaborn.\n",
        "\n",
        "Por ejemplo, si queremos saber la cantidad de personas de cada género:"
      ]
    },
    {
      "cell_type": "code",
      "execution_count": null,
      "metadata": {
        "id": "pWtL1ypu2cI2"
      },
      "outputs": [],
      "source": [
        "fig = plt.figure()\n",
        "ax = plt.axes()\n",
        "ax = sns.countplot(x='Sex', data=titanic_df)\n",
        "plt.show()"
      ]
    },
    {
      "cell_type": "markdown",
      "metadata": {
        "id": "Z_D2WSmh25cV"
      },
      "source": [
        "Con el parametro orient, podemos hacer que el gráfico sea horizontal.\n",
        "\n",
        "Hay que tener en cuenta, que en este caso, en lugar de asignar el valor a X se lo asignamos a Y"
      ]
    },
    {
      "cell_type": "code",
      "execution_count": null,
      "metadata": {
        "id": "uXdyPlax29pq"
      },
      "outputs": [],
      "source": [
        "fig = plt.figure()\n",
        "ax = plt.axes()\n",
        "ax = sns.countplot(y='Sex', data=titanic_df, orient='h')\n",
        "plt.show()"
      ]
    },
    {
      "cell_type": "markdown",
      "metadata": {
        "id": "hfnuLeEl6hUu"
      },
      "source": [
        "### Distplot\n",
        "\n",
        "Muy útil para visualizar distribuciones"
      ]
    },
    {
      "cell_type": "code",
      "execution_count": null,
      "metadata": {
        "id": "Il6ro5hV6mOm"
      },
      "outputs": [],
      "source": [
        "fig = plt.figure()\n",
        "ax = plt.axes()\n",
        "ax = sns.distplot(x=titanic_df.Age)\n",
        "#ax = sns.histplot(x=titanic_df.Age, kde=True, stat='density', linewidth=0)\n",
        "ax.set_title(\"Distribución de la variable Age\")\n",
        "plt.show()"
      ]
    },
    {
      "cell_type": "markdown",
      "metadata": {
        "id": "qwLCWWZ37Vn1"
      },
      "source": [
        "Podemos elegir si queremos que se vea el histograma o no"
      ]
    },
    {
      "cell_type": "code",
      "execution_count": null,
      "metadata": {
        "id": "4YgkRVvT7UqA"
      },
      "outputs": [],
      "source": [
        "fig = plt.figure()\n",
        "ax = plt.axes()\n",
        "ax = sns.distplot(x=titanic_df.Age, hist=False)\n",
        "ax.set_title(\"Distribución de la variable Age\")\n",
        "plt.show()"
      ]
    },
    {
      "cell_type": "markdown",
      "metadata": {
        "id": "y2JaOzP43WjF"
      },
      "source": [
        "### Heatmap\n",
        "\n",
        "Se acuerdan de la matriz de correlación que podiamos generar con pandas?\n",
        "\n"
      ]
    },
    {
      "cell_type": "code",
      "execution_count": null,
      "metadata": {
        "id": "hbfvU-et31bI"
      },
      "outputs": [],
      "source": [
        "titanic_df.corr()"
      ]
    },
    {
      "cell_type": "markdown",
      "metadata": {
        "id": "YglkonNg33ku"
      },
      "source": [
        "Con seaborn, podemos utilizar el heatmap para obtener una representación visual de la matriz:"
      ]
    },
    {
      "cell_type": "code",
      "execution_count": null,
      "metadata": {
        "id": "E98zVmCn39H3"
      },
      "outputs": [],
      "source": [
        "fig = plt.figure(figsize=(10,8)) # Cambiamos el tamaño del gráfico con figsize\n",
        "ax = plt.axes()\n",
        "ax = sns.heatmap(titanic_df.corr())\n",
        "ax.set_title(\"Heatmap\")\n",
        "plt.show()\n"
      ]
    },
    {
      "cell_type": "markdown",
      "metadata": {
        "id": "R6xjA_Ew4nMi"
      },
      "source": [
        "#### Paleta de colores\n",
        "\n",
        "Podemos cambiar la paleta de colores de nuestros heatmamps, agregar lineas de separación y escribir el valor del coheficiente de correlación en cada cuadrado:\n",
        "\n",
        "*Más info: https://seaborn.pydata.org/generated/seaborn.heatmap.html\n"
      ]
    },
    {
      "cell_type": "code",
      "execution_count": null,
      "metadata": {
        "id": "7JpFr3ly3adk"
      },
      "outputs": [],
      "source": [
        "fig = plt.figure(figsize=(10,8)) # Cambiamos el tamaño del gráfico con figsize\n",
        "ax = plt.axes()\n",
        "ax = sns.heatmap(titanic_df.corr(), cmap=\"YlGnBu\", annot=True)\n",
        "ax.set_title(\"Heatmap\")\n",
        "plt.show()\n"
      ]
    },
    {
      "cell_type": "markdown",
      "metadata": {
        "id": "lykQ1qjd7vP4"
      },
      "source": [
        "### Pairplot\n",
        "\n",
        "La función `pairplot()` de Seaborn resulta muy cómoda para hacer una primera inspección de un dataset.\n",
        "\n",
        "La misma genera una grilla de N x N ejes, donde N es el número de variables numéricas que tiene el dataset (features que toman valores numéricos). Para cada par de variables numéricas, genera un scatterplot y en la diagonal grafica la distribucion de esos valores."
      ]
    },
    {
      "cell_type": "code",
      "execution_count": null,
      "metadata": {
        "id": "-O3gMe0W7xZb"
      },
      "outputs": [],
      "source": [
        "sns.pairplot(data=titanic_df[['Survived', 'Pclass', 'Age']])"
      ]
    }
  ],
  "metadata": {
    "colab": {
      "provenance": []
    },
    "kernelspec": {
      "display_name": "Python 3.8.13 ('base')",
      "language": "python",
      "name": "python3"
    },
    "language_info": {
      "codemirror_mode": {
        "name": "ipython",
        "version": 3
      },
      "file_extension": ".py",
      "mimetype": "text/x-python",
      "name": "python",
      "nbconvert_exporter": "python",
      "pygments_lexer": "ipython3",
      "version": "3.8.13"
    },
    "vscode": {
      "interpreter": {
        "hash": "892d461b55a6ce994a56bafd67ae2f3489d9f23234c096cfb51dfe498c166e4b"
      }
    }
  },
  "nbformat": 4,
  "nbformat_minor": 0
}